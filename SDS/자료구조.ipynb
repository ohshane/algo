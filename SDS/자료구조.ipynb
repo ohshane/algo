{
 "cells": [
  {
   "cell_type": "markdown",
   "metadata": {},
   "source": [
    "### stack"
   ]
  },
  {
   "cell_type": "code",
   "execution_count": 12,
   "metadata": {},
   "outputs": [
    {
     "ename": "IndexError",
     "evalue": "list index out of range",
     "output_type": "error",
     "traceback": [
      "\u001b[0;31m---------------------------------------------------------------------------\u001b[0m",
      "\u001b[0;31mIndexError\u001b[0m                                Traceback (most recent call last)",
      "Cell \u001b[0;32mIn[12], line 17\u001b[0m\n\u001b[1;32m     15\u001b[0m \u001b[38;5;66;03m# peek\u001b[39;00m\n\u001b[1;32m     16\u001b[0m stack \u001b[38;5;241m=\u001b[39m []\n\u001b[0;32m---> 17\u001b[0m stack[\u001b[38;5;241m-\u001b[39m\u001b[38;5;241m1\u001b[39m]\n",
      "\u001b[0;31mIndexError\u001b[0m: list index out of range"
     ]
    }
   ],
   "source": [
    "stack = []      # top = -1\n",
    "\n",
    "# push\n",
    "stack.append(0) # top = 0\n",
    "stack.append(0) # top = 1\n",
    "stack.append(0) # top = 2\n",
    "\n",
    "# pop\n",
    "stack.pop()     # top = 1\n",
    "stack.pop()     # top = 0\n",
    "\n",
    "# is_empty\n",
    "is_empty = lambda stack: len(stack) == 0\n",
    "\n",
    "# peek\n",
    "peek = lambda stack: stack[-1]"
   ]
  },
  {
   "cell_type": "code",
   "execution_count": null,
   "metadata": {},
   "outputs": [],
   "source": []
  }
 ],
 "metadata": {
  "kernelspec": {
   "display_name": "base",
   "language": "python",
   "name": "python3"
  },
  "language_info": {
   "codemirror_mode": {
    "name": "ipython",
    "version": 3
   },
   "file_extension": ".py",
   "mimetype": "text/x-python",
   "name": "python",
   "nbconvert_exporter": "python",
   "pygments_lexer": "ipython3",
   "version": "3.11.3"
  }
 },
 "nbformat": 4,
 "nbformat_minor": 2
}
