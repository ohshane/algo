{
 "cells": [
  {
   "cell_type": "markdown",
   "metadata": {},
   "source": [
    "### 알고리즘 성능 분석 방법\n",
    "\n",
    "* 실제 걸리는 시간을 측정\n",
    "* 실행되는 명령문의 개수를 계산\n",
    "\n",
    "1~100까지 더하는 알고리즘을 구현한다고 하자."
   ]
  },
  {
   "cell_type": "code",
   "execution_count": 6,
   "metadata": {},
   "outputs": [
    {
     "data": {
      "text/plain": [
       "5050"
      ]
     },
     "execution_count": 6,
     "metadata": {},
     "output_type": "execute_result"
    }
   ],
   "source": [
    "# 실행되는 명령문의 개수 계산\n",
    "\n",
    "def calcSum(n):\n",
    "    sum = 0 # 1번\n",
    "    for i in range(1, n+1): # n번\n",
    "        sum = sum + i # n번\n",
    "    return sum\n",
    "\n",
    "calcSum(100) # 2n+1번"
   ]
  },
  {
   "cell_type": "code",
   "execution_count": 10,
   "metadata": {},
   "outputs": [
    {
     "data": {
      "text/plain": [
       "5050"
      ]
     },
     "execution_count": 10,
     "metadata": {},
     "output_type": "execute_result"
    }
   ],
   "source": [
    "def calcSum(n):\n",
    "    return n * (n+1) // 2 # 3번 (*,+,//)\n",
    "\n",
    "calcSum(100) # 3번"
   ]
  },
  {
   "cell_type": "markdown",
   "metadata": {},
   "source": [
    "### Exhaustive Search\n",
    "aka. Brute-force, Generate-and-Test"
   ]
  },
  {
   "cell_type": "markdown",
   "metadata": {},
   "source": [
    "<img src=\"src/baby-gin.png\" width=600 />"
   ]
  },
  {
   "cell_type": "code",
   "execution_count": 13,
   "metadata": {},
   "outputs": [
    {
     "name": "stdout",
     "output_type": "stream",
     "text": [
      "1 1 1\n",
      "1 1 2\n",
      "1 1 3\n",
      "1 2 1\n",
      "1 2 2\n",
      "1 2 3\n",
      "1 3 1\n",
      "1 3 2\n",
      "1 3 3\n",
      "2 1 1\n",
      "2 1 2\n",
      "2 1 3\n",
      "2 2 1\n",
      "2 2 2\n",
      "2 2 3\n",
      "2 3 1\n",
      "2 3 2\n",
      "2 3 3\n",
      "3 1 1\n",
      "3 1 2\n",
      "3 1 3\n",
      "3 2 1\n",
      "3 2 2\n",
      "3 2 3\n",
      "3 3 1\n",
      "3 3 2\n",
      "3 3 3\n"
     ]
    }
   ],
   "source": [
    "# 중복순열 {1,2,3}\n",
    "for i1 in range(1,4):\n",
    "    for i2 in range(1,4):\n",
    "        for i3 in range(1,4):\n",
    "                print(i1, i2, i3)"
   ]
  },
  {
   "cell_type": "code",
   "execution_count": 14,
   "metadata": {},
   "outputs": [
    {
     "name": "stdout",
     "output_type": "stream",
     "text": [
      "1 2 3\n",
      "1 3 2\n",
      "2 1 3\n",
      "2 3 1\n",
      "3 1 2\n",
      "3 2 1\n"
     ]
    }
   ],
   "source": [
    "# 순열 {1,2,3}\n",
    "for i1 in range(1,4):\n",
    "    for i2 in range(1,4):\n",
    "        if i2 != i1:\n",
    "            for i3 in range(1,4):\n",
    "                if i3 != i1 and i3 != i2:\n",
    "                    print(i1, i2, i3)"
   ]
  },
  {
   "cell_type": "markdown",
   "metadata": {},
   "source": [
    "### bubble sort\n",
    "\n",
    "$O(n^2)$"
   ]
  },
  {
   "cell_type": "code",
   "execution_count": 21,
   "metadata": {},
   "outputs": [
    {
     "data": {
      "text/plain": [
       "[1, 2, 3, 3, 4, 5]"
      ]
     },
     "execution_count": 21,
     "metadata": {},
     "output_type": "execute_result"
    }
   ],
   "source": [
    "a = [3,5,3,1,4,2]\n",
    "\n",
    "# 안쪽 반복문이 바깥쪽 반복문에 의해 제어되는 부분을 눈여겨 보자\n",
    "def bubble_sort(a):\n",
    "    for i in range(len(a)-1, 0, -1): # sorting 범위 끝이 점점 줄어듬\n",
    "        for j in range(i):\n",
    "            if a[j] > a[j+1]:\n",
    "                a[j], a[j+1] = a[j+1], a[j]\n",
    "    return a\n",
    "\n",
    "bubble_sort(a)"
   ]
  },
  {
   "cell_type": "markdown",
   "metadata": {},
   "source": [
    "### counting sort \n",
    "\n",
    "$O(n+k)$\n",
    "\n",
    "정수(양수) sorting에서 활용 가능\\\n",
    "시간 복잡도: O(n+k); n=리스트 개수, k=정수 최대값\\\n",
    "dense하고 겹치는게 많을수록 좋음\n",
    "\n",
    "숫자를 인덱스 번호에 넣는거에 거부감을 갖지 말자~"
   ]
  },
  {
   "cell_type": "code",
   "execution_count": 56,
   "metadata": {},
   "outputs": [
    {
     "name": "stdout",
     "output_type": "stream",
     "text": [
      "[0, 4, 1, 3, 1, 2, 4, 1]\n",
      "[1, 3, 1, 1, 2]\n",
      "[1, 4, 5, 6, 8]\n"
     ]
    },
    {
     "data": {
      "text/plain": [
       "[0, 1, 1, 1, 2, 3, 4, 4]"
      ]
     },
     "execution_count": 56,
     "metadata": {},
     "output_type": "execute_result"
    }
   ],
   "source": [
    "a = [0,4,1,3,1,2,4,1]\n",
    "print(a)\n",
    "\n",
    "def counting_sort(a):\n",
    "    counts = [0] * (max(a)+1) # 인덱스 번호에 바로 대응\n",
    "    for i in a:\n",
    "        counts[i] += 1\n",
    "    print(counts)\n",
    "\n",
    "    tmp = 0\n",
    "    for i in range(len(counts)):\n",
    "        tmp += counts[i]\n",
    "        counts[i] = tmp\n",
    "    print(counts) # counts[-1]의 값은 sorting할 리스트의 길이(인텍스); 개수가 인덱스가 됨 (-1)연산을 하면서\n",
    "\n",
    "    result = [None] * len(a)\n",
    "    for i in a:\n",
    "        result[counts[i]-1] = i\n",
    "        counts[i] -= 1\n",
    "\n",
    "    return result\n",
    "\n",
    "counting_sort(a)"
   ]
  },
  {
   "cell_type": "markdown",
   "metadata": {},
   "source": [
    "### quick sort\n",
    "\n",
    "$O(n \\log n)$\n",
    "\n",
    "devide and concour\n",
    "\n",
    "왼쪽에는 pivot보다 같거나 작은 것, 오른쪽에는 pivot보다 큰 것 -> 그 시이에서 순서는 고려하지 않음\n"
   ]
  },
  {
   "cell_type": "code",
   "execution_count": 1,
   "metadata": {},
   "outputs": [],
   "source": [
    "# [ 3 4 5 ]\n",
    "# \n",
    "#       a <- ministack의 top\n",
    "#       |\n",
    "# [ 3 4 5 9 2 7 8 6 ]\n",
    "#           |\n",
    "#           b <- 6(pivot)보다 같거나 작은 값 발견!\n",
    "# \n",
    "#         | <- 6(pivot)보다 같거나 작은 값을 발견하면 top을 오른쪽으로 한칸 미리 옮긴다\n",
    "# [ 3 4 5 9 2 7 8 6 ]\n",
    "#           |\n",
    "# \n",
    "#         | <- switch!\n",
    "# [ 3 4 5 2 9 7 8 6 ]\n",
    "#           | <- switch!\n",
    "# \n",
    "# [ 3 4 5 2 ] <- 왼쪽은 mini stack (switch이 stack에 push하는 역할)"
   ]
  },
  {
   "cell_type": "code",
   "execution_count": 48,
   "metadata": {},
   "outputs": [
    {
     "name": "stdout",
     "output_type": "stream",
     "text": [
      "[14, 18, 3, 17, 14, 12, 12, 6, 6, 19, 20, 4, 0, 1, 16, 8, 15, 10, 8, 19]\n"
     ]
    },
    {
     "data": {
      "text/plain": [
       "[0, 1, 3, 4, 6, 6, 8, 8, 10, 12, 12, 14, 14, 15, 16, 17, 18, 19, 19, 20]"
      ]
     },
     "execution_count": 48,
     "metadata": {},
     "output_type": "execute_result"
    }
   ],
   "source": [
    "import random\n",
    "\n",
    "arr = [random.randint(0,20) for _ in range(20)]\n",
    "print(arr)\n",
    "\n",
    "def quick_sort(arr):\n",
    "    if len(arr) <= 1:\n",
    "        return arr\n",
    "\n",
    "    pivot = arr[-1]\n",
    "    j = -1 # ministack end index\n",
    "    for i in range(len(arr)):\n",
    "        if arr[i] <= pivot:\n",
    "            j += 1\n",
    "            if arr[i] < arr[j]:\n",
    "                arr[i], arr[j] = arr[j], arr[i]\n",
    "    arr = [*quick_sort(arr[:j]), arr[j], *quick_sort(arr[j+1:])] # pivot기준으로 왼쪽, 오른쪽\n",
    "\n",
    "    return arr\n",
    "\n",
    "quick_sort(arr)"
   ]
  },
  {
   "cell_type": "markdown",
   "metadata": {},
   "source": [
    "### min-max"
   ]
  },
  {
   "cell_type": "code",
   "execution_count": 53,
   "metadata": {},
   "outputs": [
    {
     "name": "stdout",
     "output_type": "stream",
     "text": [
      "#0 630739\n"
     ]
    }
   ],
   "source": [
    "T = int(input())\n",
    "for test_case in range(1,T+1):\n",
    "    input()\n",
    "    arr = list(map(int, input().split()))\n",
    "    minim = 9999999\n",
    "    maxim = 0\n",
    "    for a in arr:\n",
    "        if a > maxim:\n",
    "            maxim = a\n",
    "        if a < minim:\n",
    "            minim = a\n",
    "    print(f\"#{test_case+1} {maxim - minim}\")"
   ]
  },
  {
   "cell_type": "markdown",
   "metadata": {},
   "source": [
    "### 4831. 전기버스\n",
    "greedy"
   ]
  },
  {
   "cell_type": "code",
   "execution_count": 65,
   "metadata": {},
   "outputs": [
    {
     "data": {
      "text/plain": [
       "3"
      ]
     },
     "execution_count": 65,
     "metadata": {},
     "output_type": "execute_result"
    }
   ],
   "source": [
    "# T = int(input())\n",
    "# for test_case in range(1,T+1):\n",
    "#     K, N, M = map(int, input().split())\n",
    "\n",
    "K, N, M = 3, 10, 5\n",
    "charge_station = [1, 3, 5, 7, 9]\n",
    "\n",
    "count = 0\n",
    "current = 0\n",
    "\n",
    "while current + K < N:\n",
    "    for step in range(K, 0, -1):\n",
    "        if (current + step) in charge_station:\n",
    "            count += 1\n",
    "            current += step\n",
    "            break\n",
    "    else:\n",
    "        count = 0\n",
    "        break\n",
    "\n",
    "count"
   ]
  },
  {
   "cell_type": "markdown",
   "metadata": {},
   "source": [
    "### 4834. 숫자카드"
   ]
  },
  {
   "cell_type": "code",
   "execution_count": 70,
   "metadata": {},
   "outputs": [
    {
     "data": {
      "text/plain": [
       "(7, 3)"
      ]
     },
     "execution_count": 70,
     "metadata": {},
     "output_type": "execute_result"
    }
   ],
   "source": [
    "numbers = [7,7,9,7,9,4,6,5,4,3]\n",
    "\n",
    "arr = [0] * 10\n",
    "for i in range(len(numbers)):\n",
    "    arr[numbers[i]] += 1\n",
    "\n",
    "maxim = 0\n",
    "number = 0\n",
    "for i in range(len(arr)):\n",
    "    if arr[i] >= maxim:\n",
    "        maxim = arr[i]\n",
    "        number = i\n",
    "\n",
    "number, maxim"
   ]
  },
  {
   "cell_type": "markdown",
   "metadata": {},
   "source": [
    "### 4835. 구간합"
   ]
  },
  {
   "cell_type": "code",
   "execution_count": 3,
   "metadata": {},
   "outputs": [
    {
     "data": {
      "text/plain": [
       "6098"
      ]
     },
     "execution_count": 3,
     "metadata": {},
     "output_type": "execute_result"
    }
   ],
   "source": [
    "N, M = 10, 5\n",
    "v = list(map(int, \"6262 6004 1801 7660 7919 1280 525 9798 5134 1821\".split()))\n",
    "\n",
    "minim = float('inf')\n",
    "maxim = 0\n",
    "for i in range(N-M+1):\n",
    "    value = sum(v[i:i+M])\n",
    "    if value < minim:\n",
    "        minim = value\n",
    "    elif value > minim:\n",
    "        maxim = value\n",
    "maxim - minim"
   ]
  },
  {
   "cell_type": "markdown",
   "metadata": {},
   "source": [
    "## 2차원 리스트"
   ]
  },
  {
   "cell_type": "code",
   "execution_count": 7,
   "metadata": {},
   "outputs": [
    {
     "data": {
      "text/plain": [
       "[[1, 2, 3, 4], [1, 2, 3, 4], [4]]"
      ]
     },
     "execution_count": 7,
     "metadata": {},
     "output_type": "execute_result"
    }
   ],
   "source": [
    "# 2차원 리스트 입력 받기\n",
    "\n",
    "N, M = map(int, input().split())\n",
    "arr = [list(map(int, input().split())) for _ in range(N)]\n",
    "arr"
   ]
  },
  {
   "cell_type": "code",
   "execution_count": 5,
   "metadata": {},
   "outputs": [],
   "source": [
    "arr = [[1,2,3,4],\n",
    "       [2,3,4,5],\n",
    "       [3,4,5,6]]"
   ]
  },
  {
   "cell_type": "code",
   "execution_count": 6,
   "metadata": {},
   "outputs": [
    {
     "name": "stdout",
     "output_type": "stream",
     "text": [
      "1 2 3 4 \n",
      "2 3 4 5 \n",
      "3 4 5 6 \n"
     ]
    }
   ],
   "source": [
    "for i in range(len(arr)):\n",
    "    for j in range(len(arr[0])):\n",
    "        print(arr[i][j], end=' ')\n",
    "    print()"
   ]
  },
  {
   "cell_type": "code",
   "execution_count": 8,
   "metadata": {},
   "outputs": [
    {
     "name": "stdout",
     "output_type": "stream",
     "text": [
      "1 2 3 \n",
      "2 3 4 \n",
      "3 4 5 \n",
      "4 5 6 \n"
     ]
    }
   ],
   "source": [
    "for j in range(len(arr[0])):\n",
    "    for i in range(len(arr)):\n",
    "        print(arr[i][j], end=' ')\n",
    "    print()"
   ]
  },
  {
   "cell_type": "code",
   "execution_count": 10,
   "metadata": {},
   "outputs": [
    {
     "name": "stdout",
     "output_type": "stream",
     "text": [
      "1 2 3 4 \n",
      "5 4 3 2 \n",
      "3 4 5 6 \n"
     ]
    }
   ],
   "source": [
    "for i in range(len(arr)):\n",
    "    for j in range(len(arr[0])):\n",
    "        print(arr[i][j + (i%2)*(-j + len(arr[0])-1 -j)], end=' ')\n",
    "    print()"
   ]
  },
  {
   "cell_type": "code",
   "execution_count": 19,
   "metadata": {},
   "outputs": [
    {
     "name": "stdout",
     "output_type": "stream",
     "text": [
      "(0, 0) 2 2 \n",
      "(0, 1) 3 1 3 \n",
      "(0, 2) 4 2 4 \n",
      "(0, 3) 5 3 \n",
      "(1, 0) 1 3 3 \n",
      "(1, 1) 2 4 2 4 \n",
      "(1, 2) 3 5 3 5 \n",
      "(1, 3) 4 6 4 \n",
      "(2, 0) 2 4 \n",
      "(2, 1) 3 3 5 \n",
      "(2, 2) 4 4 6 \n",
      "(2, 3) 5 5 \n"
     ]
    }
   ],
   "source": [
    "# 델타를 이용한 2차 리스트 탐색\n",
    "\n",
    "#   ---dy-->\n",
    "#  |\n",
    "#  |    상\n",
    "# dx  좌   우\n",
    "#  |    하\n",
    "#  V\n",
    "\n",
    "dx = [-1, 1, 0, 0] # 상하좌우\n",
    "dy = [ 0, 0,-1, 1]\n",
    "\n",
    "for x in range(len(arr)):\n",
    "    for y in range(len(arr[0])):\n",
    "        print((x, y), end=' ')\n",
    "        for i in range(4):\n",
    "            nx = x + dx[i]\n",
    "            ny = y + dy[i]\n",
    "            if nx < 0 or ny < 0 or nx > len(arr)-1 or ny > len(arr[0])-1:\n",
    "                continue\n",
    "            print(arr[x+dx[i]][y+dy[i]], end=' ')\n",
    "        print()"
   ]
  },
  {
   "cell_type": "code",
   "execution_count": 33,
   "metadata": {},
   "outputs": [
    {
     "name": "stdout",
     "output_type": "stream",
     "text": [
      "1 4 7\n",
      "2 5 8\n",
      "3 6 9\n",
      "\n",
      "1 4\n",
      "2 5\n",
      "3 6\n"
     ]
    }
   ],
   "source": [
    "# 전치\n",
    "\n",
    "# 새로 할당 안하고 (정방)\n",
    "\n",
    "arr = [[1,2,3],\n",
    "       [4,5,6],\n",
    "       [7,8,9]]\n",
    "\n",
    "for i in range(len(arr)): # dx\n",
    "    for j in range(len(arr[0])): # dy\n",
    "        if i > j:\n",
    "            arr[i][j], arr[j][i] = arr[j][i], arr[i][j]\n",
    "\n",
    "print(*map(lambda row: ' '.join(map(str, row)), arr), sep='\\n')\n",
    "print()\n",
    "\n",
    "# 새로 할당 하고 (비정방)\n",
    "\n",
    "arr = [[1,2,3],\n",
    "       [4,5,6]]\n",
    "\n",
    "arr_T = [[None]*len(arr) for _ in range(len(arr[0]))]\n",
    "for i in range(len(arr)):\n",
    "    for j in range(len(arr[0])):\n",
    "        arr_T[j][i] = arr[i][j]\n",
    "    \n",
    "print(*map(lambda row: ' '.join(map(str, row)), arr_T), sep='\\n')"
   ]
  },
  {
   "cell_type": "code",
   "execution_count": 38,
   "metadata": {},
   "outputs": [
    {
     "name": "stdout",
     "output_type": "stream",
     "text": [
      "1 4\n",
      "2 5\n",
      "3 6\n"
     ]
    }
   ],
   "source": [
    "arr_zip = list(zip(*arr))\n",
    "\n",
    "print(*map(lambda row: ' '.join(map(str, row)), arr_zip), sep='\\n')"
   ]
  },
  {
   "cell_type": "code",
   "execution_count": 39,
   "metadata": {},
   "outputs": [
    {
     "name": "stdout",
     "output_type": "stream",
     "text": [
      "[0, 0, 0]\n",
      "[0, 0, 1]\n",
      "[0, 1, 0]\n",
      "[0, 1, 1]\n",
      "[1, 0, 0]\n",
      "[1, 0, 1]\n",
      "[1, 1, 0]\n",
      "[1, 1, 1]\n"
     ]
    }
   ],
   "source": [
    "# 부분집합\n",
    "\n",
    "# bit list\n",
    "\n",
    "bits = [0,0,0]\n",
    "\n",
    "for i in range(2):\n",
    "    bits[0] = i\n",
    "    for j in range(2):\n",
    "        bits[1] = j\n",
    "        for k in range(2):\n",
    "            bits[2] = k\n",
    "            print(bits)"
   ]
  },
  {
   "cell_type": "code",
   "execution_count": 64,
   "metadata": {},
   "outputs": [
    {
     "name": "stdout",
     "output_type": "stream",
     "text": [
      "\n",
      "1 \n",
      "2 \n",
      "1 2 \n",
      "3 \n",
      "1 3 \n",
      "2 3 \n",
      "1 2 3 \n"
     ]
    }
   ],
   "source": [
    "arr = [1,2,3]\n",
    "\n",
    "n = len(arr)\n",
    "\n",
    "for i in range(1 << n): # 전체 부분집합 개수\n",
    "    # i = 000\n",
    "    #     001\n",
    "    #     010\n",
    "    #     011\n",
    "    #     100\n",
    "    #     101\n",
    "    #     110\n",
    "    #     111\n",
    "\n",
    "    for j in range(n): \n",
    "        # j = 0\n",
    "        #     1\n",
    "        #     2\n",
    "\n",
    "        if i & (1 << j): # i의 bit (000, 001, ...)를 0째자리부터 2째까지 순회하면서 해당 자리가 겹치는 경우\n",
    "            print(arr[j], end=' ') # 한 자리를 프린트\n",
    "    print()"
   ]
  },
  {
   "cell_type": "markdown",
   "metadata": {},
   "source": [
    "### 이진탐색"
   ]
  },
  {
   "cell_type": "code",
   "execution_count": 116,
   "metadata": {},
   "outputs": [
    {
     "name": "stdout",
     "output_type": "stream",
     "text": [
      "[10, 20, 30, 40, 50, 60, 70, 80, 90, 100]\n"
     ]
    },
    {
     "data": {
      "text/plain": [
       "2"
      ]
     },
     "execution_count": 116,
     "metadata": {},
     "output_type": "execute_result"
    }
   ],
   "source": [
    "arr = [i*10 for i in range(1,11)]\n",
    "\n",
    "def binary_search(arr, key):\n",
    "    start = 0\n",
    "    end = len(arr) - 1\n",
    "\n",
    "    while start <= end:\n",
    "        middle = (start + end) // 2\n",
    "        if arr[middle] == key: # 보통 pivot을 중간에 잘 둠\n",
    "            return middle\n",
    "        elif arr[middle] > key:\n",
    "            end = middle-1\n",
    "        else:\n",
    "            start = middle+1\n",
    "    return -1\n",
    "\n",
    "print(arr)\n",
    "binary_search(arr, 30)"
   ]
  },
  {
   "cell_type": "code",
   "execution_count": 125,
   "metadata": {},
   "outputs": [
    {
     "data": {
      "text/plain": [
       "2"
      ]
     },
     "execution_count": 125,
     "metadata": {},
     "output_type": "execute_result"
    }
   ],
   "source": [
    "def binary_search(arr, lo, hi, key):\n",
    "    if lo > hi:\n",
    "        return -1\n",
    "    \n",
    "    middle = (lo + hi)//2\n",
    "    if arr[middle] == key:\n",
    "        return middle\n",
    "    elif key < arr[middle]:\n",
    "        return binary_search(arr, lo, middle-1, key)\n",
    "    # elif arr[middle] < key:\n",
    "    else:\n",
    "        return binary_search(arr, middle+1, hi, key)\n",
    "\n",
    "binary_search(arr, 0, len(arr)-1, 30)"
   ]
  },
  {
   "cell_type": "markdown",
   "metadata": {},
   "source": [
    "### Selection sort"
   ]
  },
  {
   "cell_type": "code",
   "execution_count": null,
   "metadata": {},
   "outputs": [],
   "source": [
    "# | |\n",
    "# 5 4 8 9 2 7\n",
    "\n",
    "# |   |\n",
    "# 5 4 8 9 2 7\n",
    "\n",
    "# |     |\n",
    "# 5 4 8 9 2 7\n",
    "\n",
    "# |       |\n",
    "# 5 4 8 9 2 7\n",
    "\n",
    "# |         |\n",
    "# 5 4 8 9 2 7\n",
    "\n",
    "# 2 4 8 9 5 7 <- switch\n",
    "\n",
    "#   | |\n",
    "# 2 4 8 9 5 7\n",
    "\n",
    "#   |   |\n",
    "# 2 4 8 9 5 7\n",
    "\n",
    "#   |     |\n",
    "# 2 4 8 9 5 7\n",
    "\n",
    "#   |       |\n",
    "# 2 4 8 9 5 7\n",
    "\n",
    "#     | |\n",
    "# 2 4 8 9 5 7\n",
    "\n",
    "#     |   |\n",
    "# 2 4 8 9 5 7\n",
    "\n",
    "#     |     |\n",
    "# 2 4 8 9 5 7\n",
    "\n",
    "# 2 4 5 9 8 7 <- switch\n",
    "\n",
    "#       | |\n",
    "# 2 4 5 9 8 7\n",
    "\n",
    "#       |   |\n",
    "# 2 4 5 9 8 7\n",
    "\n",
    "# 2 4 5 7 8 9\n",
    "\n",
    "#         | |\n",
    "# 2 4 5 7 8 9"
   ]
  },
  {
   "cell_type": "code",
   "execution_count": 148,
   "metadata": {},
   "outputs": [
    {
     "data": {
      "text/plain": [
       "[5, 5, 5, 8, 11, 12, 14, 14, 20, 20]"
      ]
     },
     "execution_count": 148,
     "metadata": {},
     "output_type": "execute_result"
    }
   ],
   "source": [
    "import random\n",
    " \n",
    "arr = [random.randint(1,20) for _ in range(10)]\n",
    "\n",
    "def selection_sort(arr):\n",
    "    for i in range(len(arr)-1):\n",
    "        minim = i\n",
    "        for j in range(i+1, len(arr)):\n",
    "            if arr[minim] > arr[j]:\n",
    "                minim = j\n",
    "        arr[minim], arr[i] = arr[i], arr[minim]\n",
    "    return arr\n",
    "\n",
    "selection_sort(arr)"
   ]
  },
  {
   "cell_type": "markdown",
   "metadata": {},
   "source": [
    "### 4836. 색칠하기"
   ]
  },
  {
   "cell_type": "code",
   "execution_count": 154,
   "metadata": {},
   "outputs": [
    {
     "data": {
      "text/plain": [
       "7"
      ]
     },
     "execution_count": 154,
     "metadata": {},
     "output_type": "execute_result"
    }
   ],
   "source": [
    "arr = [[0]*10 for _ in range(10)]\n",
    "\n",
    "for i in range(1,8+1):\n",
    "    for j in range(4,5+1):\n",
    "        if arr[i][j] == 0:\n",
    "            arr[i][j] = 1\n",
    "        else:\n",
    "            arr[i][j] = 3\n",
    "        \n",
    "for i in range(1,3+1):\n",
    "    for j in range(8,9+1):\n",
    "        if arr[i][j] == 0:\n",
    "            arr[i][j] = 1\n",
    "        else:\n",
    "            arr[i][j] = 3\n",
    "\n",
    "for i in range(3,5+1):\n",
    "    for j in range(2,8+1):\n",
    "        if arr[i][j] == 0:\n",
    "            arr[i][j] = 2\n",
    "        else:\n",
    "            arr[i][j] = 3\n",
    "\n",
    "count = 0\n",
    "for i in range(len(arr)):\n",
    "    for j in range(len(arr[0])):\n",
    "        if arr[i][j] == 3:\n",
    "            count += 1\n",
    "count"
   ]
  },
  {
   "cell_type": "code",
   "execution_count": 173,
   "metadata": {},
   "outputs": [
    {
     "name": "stdout",
     "output_type": "stream",
     "text": [
      "#1 0\n"
     ]
    }
   ],
   "source": [
    "T = int(input())\n",
    "for test_case in range(1,T+1):\n",
    "    N, K = map(int, input().split())\n",
    "\n",
    "    count = 0\n",
    "    for i in range(1 << 12):\n",
    "        indices = [0] * 12\n",
    "        for j in range(12):\n",
    "            if i & 1 << j:\n",
    "                indices[j] = 1\n",
    "\n",
    "        if sum(indices) == N:\n",
    "            k = 0\n",
    "            for idx in range(12):\n",
    "                if indices[idx]:\n",
    "                    k += idx+1\n",
    "            \n",
    "            if k == K:\n",
    "                count += 1\n",
    "\n",
    "    print(f\"#{test_case}\", count)"
   ]
  },
  {
   "cell_type": "markdown",
   "metadata": {},
   "source": [
    "### 4839. 이진탐색"
   ]
  },
  {
   "cell_type": "code",
   "execution_count": 177,
   "metadata": {},
   "outputs": [
    {
     "data": {
      "text/plain": [
       "[98, 3, 97, 9, 88, 17, 75, 18, 71, 21, 69, 26, 64, 30, 62, 36, 60, 43, 59, 46]"
      ]
     },
     "execution_count": 177,
     "metadata": {},
     "output_type": "execute_result"
    }
   ],
   "source": [
    "arr = list(map(int, \"3 69 21 46 43 60 62 97 64 30 17 88 18 98 71 75 59 36 9 26\".split()))\n",
    "\n",
    "for i in range(len(arr)-1):\n",
    "    pivot = i\n",
    "    for j in range(i, len(arr)):\n",
    "        if i % 2 == 1:\n",
    "            if arr[pivot] > arr[j]:\n",
    "                pivot = j\n",
    "        else:\n",
    "            if arr[pivot] < arr[j]:\n",
    "                pivot = j\n",
    "    \n",
    "    arr[i], arr[pivot] = arr[pivot], arr[i]\n",
    "arr"
   ]
  },
  {
   "cell_type": "markdown",
   "metadata": {},
   "source": [
    "### String Pattern matching"
   ]
  },
  {
   "cell_type": "code",
   "execution_count": null,
   "metadata": {},
   "outputs": [],
   "source": [
    "#  0 1 2 3 4 5\n",
    "# 0 1 2 3 4 5 6 <- slice / or arr[1:4] as index 1,2,3 and never 4"
   ]
  },
  {
   "cell_type": "code",
   "execution_count": 187,
   "metadata": {},
   "outputs": [
    {
     "data": {
      "text/plain": [
       "20"
      ]
     },
     "execution_count": 187,
     "metadata": {},
     "output_type": "execute_result"
    }
   ],
   "source": [
    "sequence = \"the quick brown fox jumps over a lazy dog\" # i\n",
    "pattern  = \"jump\" # j\n",
    "\n",
    "def bruteforce(sequence, pattern):\n",
    "    i, j = 0, 0\n",
    "    while i < len(sequence) and j < len(pattern):\n",
    "        if sequence[i] == pattern[j]:\n",
    "            i += 1\n",
    "            j += 1\n",
    "        else:\n",
    "            i += 1\n",
    "            j = 0\n",
    "\n",
    "    if j == len(pattern):\n",
    "        return i - j\n",
    "    else:\n",
    "        return -1\n",
    "\n",
    "bruteforce(sequence, pattern)"
   ]
  },
  {
   "cell_type": "markdown",
   "metadata": {},
   "source": [
    "### Stack"
   ]
  },
  {
   "cell_type": "code",
   "execution_count": 199,
   "metadata": {},
   "outputs": [],
   "source": [
    "# 2차시 02 Stack의 응용: 괄호검사\n",
    "\n",
    "s = \"{f(x+y)-f(x)+f(y)}*f(g(h(x)+h(y)))\"\n",
    "\n",
    "stack = []\n",
    "for i in range(len(s)):\n",
    "    if s[i] in \"({\":\n",
    "        stack.append(s[i])\n",
    "    elif s[i] == \")\" and stack[-1:] == [\"(\"]: # <- [-1:] this is great.\n",
    "        stack.pop()\n",
    "    elif s[i] == \"}\" and stack[-1:] == [\"{\"]:\n",
    "        stack.pop()\n",
    "\n",
    "assert len(stack) == 0"
   ]
  },
  {
   "cell_type": "code",
   "execution_count": 209,
   "metadata": {},
   "outputs": [
    {
     "data": {
      "text/plain": [
       "8"
      ]
     },
     "execution_count": 209,
     "metadata": {},
     "output_type": "execute_result"
    }
   ],
   "source": [
    "# 3차시 03 Memoization\n",
    "\n",
    "# 1 1 2 3 5 8\n",
    "\n",
    "# 기본\n",
    "def fib(n):\n",
    "    if n < 2:\n",
    "        return 1\n",
    "    return fib(n-1) + fib(n-2)\n",
    "\n",
    "# f(5) = f(4) + f(3)\n",
    "#      = f(3) + f(2) + f(2) + f(1)\n",
    "#      = f(2) + f(1) + f(1) + f(0) + f(1) + f(0) + f(1)\n",
    "#      = f(1) + f(0) + f(1) + f(1) + f(0) + f(1) + f(0) + f(1) <- 계산의 중복 발생 기존에 계산한거를 저장하자! memoization\n",
    "\n",
    "fib(5)"
   ]
  },
  {
   "cell_type": "code",
   "execution_count": 221,
   "metadata": {},
   "outputs": [
    {
     "data": {
      "text/plain": [
       "8"
      ]
     },
     "execution_count": 221,
     "metadata": {},
     "output_type": "execute_result"
    }
   ],
   "source": [
    "memo = [0, 1]\n",
    "\n",
    "def fib(n):\n",
    "    global memo\n",
    "\n",
    "    if n >= 2 and len(memo) <= n:\n",
    "        memo.append(fib(n-1) + fib(n-2))\n",
    "        \n",
    "    return memo[n]\n",
    "\n",
    "fib(6)"
   ]
  },
  {
   "cell_type": "code",
   "execution_count": 108,
   "metadata": {},
   "outputs": [],
   "source": [
    "graph = {\n",
    "    \"A\": [\"B\", \"C\"],\n",
    "    \"B\": [\"A\", \"D\", \"E\"],\n",
    "    \"C\": [\"A\", \"E\"],\n",
    "    \"D\": [\"B\", \"F\"],\n",
    "    \"E\": [\"B\", \"C\", \"F\"],\n",
    "    \"F\": [\"D\", \"E\", \"G\"],\n",
    "    \"G\": [\"F\"],\n",
    "}"
   ]
  },
  {
   "cell_type": "markdown",
   "metadata": {},
   "source": [
    "<img src=\"src/graph.png\" height=200 />"
   ]
  },
  {
   "cell_type": "code",
   "execution_count": 89,
   "metadata": {},
   "outputs": [
    {
     "data": {
      "text/plain": [
       "['A', 'B', 'D', 'F', 'E', 'C', 'G']"
      ]
     },
     "execution_count": 89,
     "metadata": {},
     "output_type": "execute_result"
    }
   ],
   "source": [
    "def dfs(graph, v):\n",
    "    assert v in graph\n",
    "\n",
    "    visited = []\n",
    "    stack = [v]\n",
    "\n",
    "    while stack:\n",
    "        v = stack.pop()\n",
    "        if v not in visited:\n",
    "            visited.append(v)\n",
    "            stack.extend(sorted(graph[v], reverse=True))\n",
    "\n",
    "    return visited\n",
    "\n",
    "dfs(graph, 'A')"
   ]
  },
  {
   "cell_type": "code",
   "execution_count": 90,
   "metadata": {},
   "outputs": [
    {
     "data": {
      "text/plain": [
       "['A', 'B', 'D', 'F', 'E', 'C', 'G']"
      ]
     },
     "execution_count": 90,
     "metadata": {},
     "output_type": "execute_result"
    }
   ],
   "source": [
    "def dfs(graph, v, visited=[]):\n",
    "    assert v in graph\n",
    "\n",
    "    visited.append(v)\n",
    "    for v in sorted(graph[v]):\n",
    "        if v not in visited:\n",
    "            visited = dfs(graph, v, visited)\n",
    "\n",
    "    return visited\n",
    "\n",
    "dfs(graph, 'A')"
   ]
  },
  {
   "cell_type": "code",
   "execution_count": 98,
   "metadata": {},
   "outputs": [
    {
     "name": "stdout",
     "output_type": "stream",
     "text": [
      "['A']\n",
      "['A', 'B']\n",
      "['A', 'B', 'D']\n",
      "['A', 'B', 'D', 'F']\n",
      "['A', 'B', 'D', 'F', 'E']\n",
      "['A', 'B', 'D', 'F', 'E']\n",
      "['A', 'B', 'D', 'F']\n",
      "['A', 'B', 'D', 'F']\n",
      "['A', 'B', 'D', 'F']\n",
      "['A', 'B', 'D']\n",
      "['A', 'B']\n",
      "['A']\n"
     ]
    },
    {
     "data": {
      "text/plain": [
       "['A', 'B', 'D', 'F', 'E', 'C', 'G']"
      ]
     },
     "execution_count": 98,
     "metadata": {},
     "output_type": "execute_result"
    }
   ],
   "source": [
    "def dfs(graph, v):\n",
    "    assert v in graph\n",
    "\n",
    "    visited = [v]\n",
    "    stack = []\n",
    "\n",
    "    while True:\n",
    "\n",
    "        for w in graph[v]:\n",
    "            if w not in visited:\n",
    "                stack.append(v) # to backtrack\n",
    "                break\n",
    "        else: w = None\n",
    "        \n",
    "        print(stack)\n",
    "\n",
    "        if w is not None: # new frontier\n",
    "            visited.append(w)\n",
    "            v = w\n",
    "            continue\n",
    "\n",
    "        v = stack.pop()\n",
    "\n",
    "        if not stack:\n",
    "            break\n",
    "\n",
    "\n",
    "    return visited\n",
    "\n",
    "dfs(graph, 'A')"
   ]
  },
  {
   "cell_type": "code",
   "execution_count": 114,
   "metadata": {},
   "outputs": [
    {
     "name": "stdout",
     "output_type": "stream",
     "text": [
      "A A\n",
      "[]\n",
      "[]\n",
      "\n",
      "A B\n",
      "['A']\n",
      "['A']\n",
      "\n",
      "B D\n",
      "['A', 'B']\n",
      "['A', 'B']\n",
      "\n",
      "D F\n",
      "['A', 'B', 'D']\n",
      "['A', 'B', 'D']\n",
      "\n",
      "F E\n",
      "['A', 'B', 'D', 'F']\n",
      "['A', 'B', 'D', 'F']\n",
      "\n",
      "E C\n",
      "['A', 'B', 'D', 'F', 'E']\n",
      "['A', 'B', 'D', 'F', 'E']\n",
      "\n",
      "C None\n",
      "['A', 'B', 'D', 'F', 'E']\n",
      "['A', 'B', 'D', 'F', 'E', 'C']\n",
      "\n",
      "E None\n",
      "['A', 'B', 'D', 'F']\n",
      "['A', 'B', 'D', 'F', 'E', 'C']\n",
      "\n",
      "F G\n",
      "['A', 'B', 'D', 'F']\n",
      "['A', 'B', 'D', 'F', 'E', 'C']\n",
      "\n",
      "G None\n",
      "['A', 'B', 'D', 'F']\n",
      "['A', 'B', 'D', 'F', 'E', 'C', 'G']\n",
      "\n",
      "F None\n",
      "['A', 'B', 'D']\n",
      "['A', 'B', 'D', 'F', 'E', 'C', 'G']\n",
      "\n",
      "D None\n",
      "['A', 'B']\n",
      "['A', 'B', 'D', 'F', 'E', 'C', 'G']\n",
      "\n",
      "B None\n",
      "['A']\n",
      "['A', 'B', 'D', 'F', 'E', 'C', 'G']\n",
      "\n",
      "A H\n",
      "['A']\n",
      "['A', 'B', 'D', 'F', 'E', 'C', 'G']\n",
      "\n",
      "H None\n",
      "['A']\n",
      "['A', 'B', 'D', 'F', 'E', 'C', 'G', 'H']\n",
      "\n"
     ]
    },
    {
     "data": {
      "text/plain": [
       "['A', 'B', 'D', 'F', 'E', 'C', 'G', 'H']"
      ]
     },
     "execution_count": 114,
     "metadata": {},
     "output_type": "execute_result"
    }
   ],
   "source": [
    "graph = {\n",
    "    \"A\": [\"B\", \"C\", \"H\"],\n",
    "    \"B\": [\"A\", \"D\", \"E\"],\n",
    "    \"C\": [\"A\", \"E\"],\n",
    "    \"D\": [\"B\", \"F\"],\n",
    "    \"E\": [\"B\", \"C\", \"F\"],\n",
    "    \"F\": [\"D\", \"E\", \"G\"],\n",
    "    \"G\": [\"F\"],\n",
    "    \"H\": [\"A\"]\n",
    "}\n",
    "\n",
    "def dfs(graph, v):\n",
    "    assert v in graph\n",
    "\n",
    "    visited = []\n",
    "    stack = []\n",
    "\n",
    "    w = v\n",
    "    while True:\n",
    "        print(v, w)\n",
    "        print(stack)\n",
    "        print(visited)\n",
    "        print()\n",
    "        \n",
    "        if w is not None:\n",
    "            v = w\n",
    "            visited.append(v)\n",
    "        else:\n",
    "            v = stack.pop()\n",
    "        \n",
    "        for w in graph[v]:\n",
    "            if w not in visited:\n",
    "                stack.append(v)\n",
    "                break\n",
    "        else: w = None\n",
    "\n",
    "\n",
    "        if not stack:\n",
    "            break\n",
    "    \n",
    "    return visited\n",
    "\n",
    "dfs(graph, 'A')"
   ]
  },
  {
   "cell_type": "code",
   "execution_count": 124,
   "metadata": {},
   "outputs": [
    {
     "name": "stdout",
     "output_type": "stream",
     "text": [
      "['A']\n",
      "['A', 'B']\n",
      "['A', 'B', 'D']\n",
      "['A', 'B', 'D', 'F']\n",
      "['A', 'B', 'D', 'F', 'E']\n",
      "['A', 'B', 'D', 'F', 'E', 'C']\n",
      "['A', 'B', 'D', 'F', 'G']\n",
      "['A', 'H']\n"
     ]
    },
    {
     "data": {
      "text/plain": [
       "['A', 'B', 'D', 'F', 'E', 'C', 'G', 'H']"
      ]
     },
     "execution_count": 124,
     "metadata": {},
     "output_type": "execute_result"
    }
   ],
   "source": [
    "graph = {\n",
    "    \"A\": [\"B\", \"C\", \"H\"],\n",
    "    \"B\": [\"A\", \"D\", \"E\"],\n",
    "    \"C\": [\"A\", \"E\"],\n",
    "    \"D\": [\"B\", \"F\"],\n",
    "    \"E\": [\"B\", \"C\", \"F\"],\n",
    "    \"F\": [\"D\", \"E\", \"G\"],\n",
    "    \"G\": [\"F\"],\n",
    "    \"H\": [\"A\"]\n",
    "}\n",
    "\n",
    "stack = []\n",
    "def dfs(graph, v, visited=[]):\n",
    "    assert v in graph\n",
    "\n",
    "    global stack\n",
    "    stack.append(v)\n",
    "    print(stack)\n",
    "\n",
    "    visited.append(v)\n",
    "    for w in graph[v]:\n",
    "        if w not in visited:\n",
    "            visited = dfs(graph, w, visited)\n",
    "    \n",
    "    stack.pop()\n",
    "    return visited\n",
    "\n",
    "dfs(graph, 'A')\n",
    "# print(stack)"
   ]
  },
  {
   "cell_type": "code",
   "execution_count": 2,
   "metadata": {},
   "outputs": [
    {
     "data": {
      "text/plain": [
       "{'R': 0, 'L': 2, 'U': 3, 'D': 1}"
      ]
     },
     "execution_count": 2,
     "metadata": {},
     "output_type": "execute_result"
    }
   ],
   "source": [
    "# dx dy 테크닉\n",
    "\n",
    "#      0  1  2  3\n",
    "dx = [ 0, 1, 0,-1]\n",
    "dy = [ 1, 0,-1, 0]\n",
    "\n",
    "#  --dy-->\n",
    "# |    3\n",
    "# dx 2   0*\n",
    "# |    1\n",
    "# V\n",
    "\n",
    "# ->\n",
    "[]"
   ]
  },
  {
   "cell_type": "markdown",
   "metadata": {},
   "source": [
    "### backtrack"
   ]
  },
  {
   "cell_type": "code",
   "execution_count": null,
   "metadata": {},
   "outputs": [],
   "source": [
    "# def backtrack(candidate):\n",
    "# \t# 만약 현재 후보군이 유효한 해라면 정답 처리하고 backtrack 함수를 종료\n",
    "\n",
    "#     if find_solution(candidate):\n",
    "#         output(candidate)\n",
    "#         return\n",
    "    \n",
    "#     # 반복문을 돌면서 가능한 모든 후보군에 대해 탐색\n",
    "#     for next_candidate in list_of_candidates:\n",
    "\n",
    "#     \t# 유효한 후보군인 경우에만 탐색 진행\n",
    "#         if is_valid(next_candidate):\n",
    "\n",
    "#             # 이 후보군을 우선 추가하고,\n",
    "#             place(next_candidate)\n",
    "\n",
    "#             # 후보군을 추가한 상태에서 다음 후보군에 대해서 탐색 진행\n",
    "#             backtrack(next_candidate)\n",
    "\n",
    "#             # 해당 후보군에 대한 탐색을 종료한 이후에는 제거\n",
    "#             remove(next_candidate)"
   ]
  },
  {
   "cell_type": "code",
   "execution_count": 20,
   "metadata": {},
   "outputs": [
    {
     "data": {
      "text/plain": [
       "[[1, 2], [1, 3], [2, 1], [2, 3], [3, 1], [3, 2]]"
      ]
     },
     "execution_count": 20,
     "metadata": {},
     "output_type": "execute_result"
    }
   ],
   "source": [
    "# 순열 (재귀, DFS + checklist)\n",
    "# nPr\n",
    "\n",
    "candi = [1,2,3]\n",
    "used  = [0,0,0]\n",
    "results = []\n",
    "\n",
    "def dfs(n, r, d=0, result=[]):\n",
    "    global results\n",
    "    if d == r:\n",
    "        results.append(result.copy()) # <- copy를 해야 함 안그러면 pop때문에 다 없어짐\n",
    "        return\n",
    "    for i in range(n):\n",
    "        if not used[i]:\n",
    "            result.append(candi[i])\n",
    "            used[i] = 1\n",
    "            dfs(n, r, d+1, result)\n",
    "            used[i] = 0\n",
    "            result.pop()\n",
    "    return\n",
    "\n",
    "dfs(3,2)\n",
    "results"
   ]
  },
  {
   "cell_type": "code",
   "execution_count": 23,
   "metadata": {},
   "outputs": [
    {
     "name": "stdout",
     "output_type": "stream",
     "text": [
      "[0, 0, 0, 0]\n",
      "[1, 0, 0, 0]\n",
      "[0, 1, 0, 0]\n",
      "[1, 1, 0, 0]\n",
      "[0, 0, 1, 0]\n",
      "[1, 0, 1, 0]\n",
      "[0, 1, 1, 0]\n",
      "[1, 1, 1, 0]\n",
      "[0, 0, 0, 1]\n",
      "[1, 0, 0, 1]\n",
      "[0, 1, 0, 1]\n",
      "[1, 1, 0, 1]\n",
      "[0, 0, 1, 1]\n",
      "[1, 0, 1, 1]\n",
      "[0, 1, 1, 1]\n",
      "[1, 1, 1, 1]\n"
     ]
    }
   ],
   "source": [
    "# powerset\n",
    "\n",
    "n = 4\n",
    "for i in range(1 << n):\n",
    "    arr = [0,0,0,0]\n",
    "    for j in range(n):\n",
    "        if i & 1<<j:\n",
    "            arr[j] = 1\n",
    "    print(arr)"
   ]
  },
  {
   "cell_type": "code",
   "execution_count": 24,
   "metadata": {},
   "outputs": [
    {
     "name": "stdout",
     "output_type": "stream",
     "text": [
      "[0, 0, 0, 0]\n",
      "[0, 0, 0, 1]\n",
      "[0, 0, 1, 0]\n",
      "[0, 0, 1, 1]\n",
      "[0, 1, 0, 0]\n",
      "[0, 1, 0, 1]\n",
      "[0, 1, 1, 0]\n",
      "[0, 1, 1, 1]\n",
      "[1, 0, 0, 0]\n",
      "[1, 0, 0, 1]\n",
      "[1, 0, 1, 0]\n",
      "[1, 0, 1, 1]\n",
      "[1, 1, 0, 0]\n",
      "[1, 1, 0, 1]\n",
      "[1, 1, 1, 0]\n",
      "[1, 1, 1, 1]\n"
     ]
    }
   ],
   "source": [
    "n = 4\n",
    "def dfs(n, result=[]):\n",
    "    if len(result) == n:\n",
    "        print(result)\n",
    "        return\n",
    "\n",
    "    for i in range(2):\n",
    "        result.append(i)\n",
    "        dfs(n, result)\n",
    "        result.pop()\n",
    "\n",
    "dfs(4)"
   ]
  },
  {
   "cell_type": "markdown",
   "metadata": {},
   "source": [
    "### 4874. Fourth"
   ]
  },
  {
   "cell_type": "code",
   "execution_count": 40,
   "metadata": {},
   "outputs": [
    {
     "name": "stdout",
     "output_type": "stream",
     "text": [
      "168\n"
     ]
    }
   ],
   "source": [
    "T = int(input())\n",
    "\n",
    "for test_case in range(1,T+1):\n",
    "    seq = list(input().split())\n",
    "    stack = []\n",
    "    for s in seq:\n",
    "        if s == '.':\n",
    "            print(stack[-1])\n",
    "        if s in '+-*/':\n",
    "            if len(stack) < 2:\n",
    "                print(f\"#{test_case}\", \"error\")\n",
    "                break\n",
    "            s = '//' if s == '/' else s\n",
    "            b = stack.pop()\n",
    "            a = stack.pop()\n",
    "            stack.append(str(eval(f\"{a}{s}{b}\")))\n",
    "        else:\n",
    "            stack.append(s)\n",
    "    break\n"
   ]
  },
  {
   "cell_type": "markdown",
   "metadata": {},
   "source": [
    "### 4875. 미로"
   ]
  },
  {
   "cell_type": "code",
   "execution_count": null,
   "metadata": {},
   "outputs": [],
   "source": [
    "T = "
   ]
  }
 ],
 "metadata": {
  "kernelspec": {
   "display_name": "base",
   "language": "python",
   "name": "python3"
  },
  "language_info": {
   "codemirror_mode": {
    "name": "ipython",
    "version": 3
   },
   "file_extension": ".py",
   "mimetype": "text/x-python",
   "name": "python",
   "nbconvert_exporter": "python",
   "pygments_lexer": "ipython3",
   "version": "3.11.3"
  }
 },
 "nbformat": 4,
 "nbformat_minor": 2
}
