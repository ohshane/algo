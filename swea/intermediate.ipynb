{
 "cells": [
  {
   "cell_type": "markdown",
   "metadata": {},
   "source": [
    "### 알고리즘 성능 분석 방법\n",
    "\n",
    "* 실제 걸리는 시간을 측정\n",
    "* 실행되는 명령문의 개수를 계산\n",
    "\n",
    "1~100까지 더하는 알고리즘을 구현한다고 하자."
   ]
  },
  {
   "cell_type": "code",
   "execution_count": 6,
   "metadata": {},
   "outputs": [
    {
     "data": {
      "text/plain": [
       "5050"
      ]
     },
     "execution_count": 6,
     "metadata": {},
     "output_type": "execute_result"
    }
   ],
   "source": [
    "# 실행되는 명령문의 개수 계산\n",
    "\n",
    "def calcSum(n):\n",
    "    sum = 0 # 1번\n",
    "    for i in range(1, n+1): # n번\n",
    "        sum = sum + i # n번\n",
    "    return sum\n",
    "\n",
    "calcSum(100) # 2n+1번"
   ]
  },
  {
   "cell_type": "code",
   "execution_count": 10,
   "metadata": {},
   "outputs": [
    {
     "data": {
      "text/plain": [
       "5050"
      ]
     },
     "execution_count": 10,
     "metadata": {},
     "output_type": "execute_result"
    }
   ],
   "source": [
    "def calcSum(n):\n",
    "    return n * (n+1) // 2 # 3번 (*,+,//)\n",
    "\n",
    "calcSum(100) # 3번"
   ]
  },
  {
   "cell_type": "markdown",
   "metadata": {},
   "source": [
    "### Exhaustive Search\n",
    "aka. Brute-force, Generate-and-Test"
   ]
  },
  {
   "cell_type": "markdown",
   "metadata": {},
   "source": [
    "<img src=\"src/baby-gin.png\" width=600 />"
   ]
  },
  {
   "cell_type": "code",
   "execution_count": 13,
   "metadata": {},
   "outputs": [
    {
     "name": "stdout",
     "output_type": "stream",
     "text": [
      "1 1 1\n",
      "1 1 2\n",
      "1 1 3\n",
      "1 2 1\n",
      "1 2 2\n",
      "1 2 3\n",
      "1 3 1\n",
      "1 3 2\n",
      "1 3 3\n",
      "2 1 1\n",
      "2 1 2\n",
      "2 1 3\n",
      "2 2 1\n",
      "2 2 2\n",
      "2 2 3\n",
      "2 3 1\n",
      "2 3 2\n",
      "2 3 3\n",
      "3 1 1\n",
      "3 1 2\n",
      "3 1 3\n",
      "3 2 1\n",
      "3 2 2\n",
      "3 2 3\n",
      "3 3 1\n",
      "3 3 2\n",
      "3 3 3\n"
     ]
    }
   ],
   "source": [
    "# 중복순열 {1,2,3}\n",
    "for i1 in range(1,4):\n",
    "    for i2 in range(1,4):\n",
    "        for i3 in range(1,4):\n",
    "                print(i1, i2, i3)"
   ]
  },
  {
   "cell_type": "code",
   "execution_count": 14,
   "metadata": {},
   "outputs": [
    {
     "name": "stdout",
     "output_type": "stream",
     "text": [
      "1 2 3\n",
      "1 3 2\n",
      "2 1 3\n",
      "2 3 1\n",
      "3 1 2\n",
      "3 2 1\n"
     ]
    }
   ],
   "source": [
    "# 순열 {1,2,3}\n",
    "for i1 in range(1,4):\n",
    "    for i2 in range(1,4):\n",
    "        if i2 != i1:\n",
    "            for i3 in range(1,4):\n",
    "                if i3 != i1 and i3 != i2:\n",
    "                    print(i1, i2, i3)"
   ]
  },
  {
   "cell_type": "markdown",
   "metadata": {},
   "source": [
    "### bubble sort\n",
    "\n",
    "$O(n^2)$"
   ]
  },
  {
   "cell_type": "code",
   "execution_count": 21,
   "metadata": {},
   "outputs": [
    {
     "data": {
      "text/plain": [
       "[1, 2, 3, 3, 4, 5]"
      ]
     },
     "execution_count": 21,
     "metadata": {},
     "output_type": "execute_result"
    }
   ],
   "source": [
    "a = [3,5,3,1,4,2]\n",
    "\n",
    "# 안쪽 반복문이 바깥쪽 반복문에 의해 제어되는 부분을 눈여겨 보자\n",
    "def bubble_sort(a):\n",
    "    for i in range(len(a)-1, 0, -1): # sorting 범위 끝이 점점 줄어듬\n",
    "        for j in range(i):\n",
    "            if a[j] > a[j+1]:\n",
    "                a[j], a[j+1] = a[j+1], a[j]\n",
    "    return a\n",
    "\n",
    "bubble_sort(a)"
   ]
  },
  {
   "cell_type": "markdown",
   "metadata": {},
   "source": [
    "### counting sort \n",
    "\n",
    "$O(n+k)$\n",
    "\n",
    "정수(양수) sorting에서 활용 가능\\\n",
    "시간 복잡도: O(n+k); n=리스트 개수, k=정수 최대값\\\n",
    "dense하고 겹치는게 많을수록 좋음\n",
    "\n",
    "숫자를 인덱스 번호에 넣는거에 거부감을 갖지 말자~"
   ]
  },
  {
   "cell_type": "code",
   "execution_count": 56,
   "metadata": {},
   "outputs": [
    {
     "name": "stdout",
     "output_type": "stream",
     "text": [
      "[0, 4, 1, 3, 1, 2, 4, 1]\n",
      "[1, 3, 1, 1, 2]\n",
      "[1, 4, 5, 6, 8]\n"
     ]
    },
    {
     "data": {
      "text/plain": [
       "[0, 1, 1, 1, 2, 3, 4, 4]"
      ]
     },
     "execution_count": 56,
     "metadata": {},
     "output_type": "execute_result"
    }
   ],
   "source": [
    "a = [0,4,1,3,1,2,4,1]\n",
    "print(a)\n",
    "\n",
    "def counting_sort(a):\n",
    "    counts = [0] * (max(a)+1) # 인덱스 번호에 바로 대응\n",
    "    for i in a:\n",
    "        counts[i] += 1\n",
    "    print(counts)\n",
    "\n",
    "    tmp = 0\n",
    "    for i in range(len(counts)):\n",
    "        tmp += counts[i]\n",
    "        counts[i] = tmp\n",
    "    print(counts) # counts[-1]의 값은 sorting할 리스트의 길이(인텍스); 개수가 인덱스가 됨 (-1)연산을 하면서\n",
    "\n",
    "    result = [None] * len(a)\n",
    "    for i in a:\n",
    "        result[counts[i]-1] = i\n",
    "        counts[i] -= 1\n",
    "\n",
    "    return result\n",
    "\n",
    "counting_sort(a)"
   ]
  },
  {
   "cell_type": "markdown",
   "metadata": {},
   "source": [
    "### quick sort\n",
    "\n",
    "$O(n \\log n)$\n",
    "\n",
    "devide and concour\n",
    "\n",
    "왼쪽에는 pivot보다 같거나 작은 것, 오른쪽에는 pivot보다 큰 것 -> 그 시이에서 순서는 고려하지 않음\n"
   ]
  },
  {
   "cell_type": "code",
   "execution_count": 1,
   "metadata": {},
   "outputs": [],
   "source": [
    "# [ 3 4 5 ]\n",
    "# \n",
    "#       a\n",
    "#       |\n",
    "# [ 3 4 5 9 2 7 8 6 ]\n",
    "#           |\n",
    "#           b\n",
    "# \n",
    "#         |\n",
    "# [ 3 4 5 9 2 7 8 6 ]\n",
    "#           |\n",
    "# \n",
    "#         |\n",
    "# [ 3 4 5 2 9 7 8 6 ]\n",
    "#           |\n",
    "# \n",
    "# [ 3 4 5 2 ] <- 왼쪽은 mini stack (swap이 stack에 push하는 역할)"
   ]
  },
  {
   "cell_type": "code",
   "execution_count": 48,
   "metadata": {},
   "outputs": [
    {
     "name": "stdout",
     "output_type": "stream",
     "text": [
      "[14, 18, 3, 17, 14, 12, 12, 6, 6, 19, 20, 4, 0, 1, 16, 8, 15, 10, 8, 19]\n"
     ]
    },
    {
     "data": {
      "text/plain": [
       "[0, 1, 3, 4, 6, 6, 8, 8, 10, 12, 12, 14, 14, 15, 16, 17, 18, 19, 19, 20]"
      ]
     },
     "execution_count": 48,
     "metadata": {},
     "output_type": "execute_result"
    }
   ],
   "source": [
    "import random\n",
    "\n",
    "arr = [random.randint(0,20) for _ in range(20)]\n",
    "print(arr)\n",
    "\n",
    "def quick_sort(arr):\n",
    "    if len(arr) <= 1:\n",
    "        return arr\n",
    "\n",
    "    pivot = arr[-1]\n",
    "    j = -1 # ministack end index\n",
    "    for i in range(len(arr)):\n",
    "        if arr[i] <= pivot:\n",
    "            j += 1\n",
    "            if arr[i] < arr[j]:\n",
    "                arr[i], arr[j] = arr[j], arr[i]\n",
    "    arr = [*quick_sort(arr[:j]), arr[j], *quick_sort(arr[j+1:])] # pivot기준으로 왼쪽, 오른쪽\n",
    "\n",
    "    return arr\n",
    "\n",
    "quick_sort(arr)"
   ]
  },
  {
   "cell_type": "markdown",
   "metadata": {},
   "source": [
    "### min-max"
   ]
  },
  {
   "cell_type": "code",
   "execution_count": 53,
   "metadata": {},
   "outputs": [
    {
     "name": "stdout",
     "output_type": "stream",
     "text": [
      "#0 630739\n"
     ]
    }
   ],
   "source": [
    "T = int(input())\n",
    "for test_case in range(1,T+1):\n",
    "    input()\n",
    "    arr = list(map(int, input().split()))\n",
    "    minim = 9999999\n",
    "    maxim = 0\n",
    "    for a in arr:\n",
    "        if a > maxim:\n",
    "            maxim = a\n",
    "        if a < minim:\n",
    "            minim = a\n",
    "    print(f\"#{test_case+1} {maxim - minim}\")"
   ]
  },
  {
   "cell_type": "markdown",
   "metadata": {},
   "source": [
    "### 4831. 전기버스\n",
    "greedy"
   ]
  },
  {
   "cell_type": "code",
   "execution_count": 65,
   "metadata": {},
   "outputs": [
    {
     "data": {
      "text/plain": [
       "3"
      ]
     },
     "execution_count": 65,
     "metadata": {},
     "output_type": "execute_result"
    }
   ],
   "source": [
    "# T = int(input())\n",
    "# for test_case in range(1,T+1):\n",
    "#     K, N, M = map(int, input().split())\n",
    "\n",
    "K, N, M = 3, 10, 5\n",
    "charge_station = [1, 3, 5, 7, 9]\n",
    "\n",
    "count = 0\n",
    "current = 0\n",
    "\n",
    "while current + K < N:\n",
    "    for step in range(K, 0, -1):\n",
    "        if (current + step) in charge_station:\n",
    "            count += 1\n",
    "            current += step\n",
    "            break\n",
    "    else:\n",
    "        count = 0\n",
    "        break\n",
    "\n",
    "count"
   ]
  },
  {
   "cell_type": "markdown",
   "metadata": {},
   "source": [
    "### 4834. 숫자카드"
   ]
  },
  {
   "cell_type": "code",
   "execution_count": 70,
   "metadata": {},
   "outputs": [
    {
     "data": {
      "text/plain": [
       "(7, 3)"
      ]
     },
     "execution_count": 70,
     "metadata": {},
     "output_type": "execute_result"
    }
   ],
   "source": [
    "numbers = [7,7,9,7,9,4,6,5,4,3]\n",
    "\n",
    "arr = [0] * 10\n",
    "for i in range(len(numbers)):\n",
    "    arr[numbers[i]] += 1\n",
    "\n",
    "maxim = 0\n",
    "number = 0\n",
    "for i in range(len(arr)):\n",
    "    if arr[i] >= maxim:\n",
    "        maxim = arr[i]\n",
    "        number = i\n",
    "\n",
    "number, maxim"
   ]
  },
  {
   "cell_type": "markdown",
   "metadata": {},
   "source": [
    "### 4835. 구간합"
   ]
  },
  {
   "cell_type": "code",
   "execution_count": 74,
   "metadata": {},
   "outputs": [
    {
     "data": {
      "text/plain": [
       "[6262, 6004, 1801, 7660, 7919, 1280, 525, 9798, 5134, 1821]"
      ]
     },
     "execution_count": 74,
     "metadata": {},
     "output_type": "execute_result"
    }
   ],
   "source": [
    "N, M = 10, 5\n",
    "v = list(map(int, \"6262 6004 1801 7660 7919 1280 525 9798 5134 1821\".split()))\n",
    "\n",
    "minim = 0\n",
    "maxat = 0\n",
    "for i in range(N-M+1):\n",
    "    value = sum(v[i:i+M])\n"
   ]
  }
 ],
 "metadata": {
  "kernelspec": {
   "display_name": "base",
   "language": "python",
   "name": "python3"
  },
  "language_info": {
   "codemirror_mode": {
    "name": "ipython",
    "version": 3
   },
   "file_extension": ".py",
   "mimetype": "text/x-python",
   "name": "python",
   "nbconvert_exporter": "python",
   "pygments_lexer": "ipython3",
   "version": "3.11.3"
  }
 },
 "nbformat": 4,
 "nbformat_minor": 2
}
