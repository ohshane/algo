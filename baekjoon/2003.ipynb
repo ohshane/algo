{
 "cells": [
  {
   "cell_type": "code",
   "execution_count": null,
   "metadata": {},
   "outputs": [],
   "source": [
    "N, M = map(int, input().split())\n",
    "arr = list(map(int, input().split()))\n",
    "\n",
    "count = 0\n",
    "i, j = 0, 1\n",
    "while j <= N:\n",
    "    value = sum(arr[i:j])\n",
    "    if value == M:\n",
    "        count += 1\n",
    "        i += 1\n",
    "        j += 1\n",
    "    elif value < M:\n",
    "        j += 1\n",
    "    elif value > M:\n",
    "        i += 1\n",
    "        \n",
    "    if i == j and j < N:\n",
    "        j += 1\n",
    "\n",
    "print(count)"
   ]
  }
 ],
 "metadata": {
  "language_info": {
   "name": "python"
  }
 },
 "nbformat": 4,
 "nbformat_minor": 2
}
