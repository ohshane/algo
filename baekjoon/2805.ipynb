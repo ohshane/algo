{
 "cells": [
  {
   "cell_type": "code",
   "execution_count": 74,
   "metadata": {},
   "outputs": [
    {
     "ename": "ValueError",
     "evalue": "not enough values to unpack (expected 2, got 0)",
     "output_type": "error",
     "traceback": [
      "\u001b[0;31m---------------------------------------------------------------------------\u001b[0m",
      "\u001b[0;31mValueError\u001b[0m                                Traceback (most recent call last)",
      "Cell \u001b[0;32mIn[74], line 3\u001b[0m\n\u001b[1;32m      1\u001b[0m \u001b[38;5;66;03m# 시간 초과\u001b[39;00m\n\u001b[0;32m----> 3\u001b[0m N, M \u001b[38;5;241m=\u001b[39m \u001b[38;5;28mmap\u001b[39m(\u001b[38;5;28mint\u001b[39m, \u001b[38;5;28minput\u001b[39m()\u001b[38;5;241m.\u001b[39msplit())\n\u001b[1;32m      4\u001b[0m arr \u001b[38;5;241m=\u001b[39m \u001b[38;5;28mlist\u001b[39m(\u001b[38;5;28mmap\u001b[39m(\u001b[38;5;28mint\u001b[39m, \u001b[38;5;28minput\u001b[39m()\u001b[38;5;241m.\u001b[39msplit()))\n\u001b[1;32m      6\u001b[0m arr \u001b[38;5;241m=\u001b[39m \u001b[38;5;28msorted\u001b[39m(arr, reverse\u001b[38;5;241m=\u001b[39m\u001b[38;5;28;01mTrue\u001b[39;00m)\n",
      "\u001b[0;31mValueError\u001b[0m: not enough values to unpack (expected 2, got 0)"
     ]
    }
   ],
   "source": [
    "# 시간 초과\n",
    "\n",
    "N, M = map(int, input().split())\n",
    "arr = list(map(int, input().split()))\n",
    "\n",
    "arr = sorted(arr, reverse=True)\n",
    "diff = []\n",
    "for i in range(len(arr)-1):\n",
    "    diff.append(arr[i]-arr[i+1])\n",
    "diff.append(arr[-1])\n",
    "\n",
    "csum = 0\n",
    "h = arr[0]\n",
    "for i, d in enumerate(diff, start=1):\n",
    "    csum += d*i\n",
    "    h -= d\n",
    "    if csum >= M:\n",
    "        break\n",
    "\n",
    "for j in range(1, d+1):\n",
    "    csum -= i\n",
    "    if csum < M:\n",
    "        break\n",
    "h += j-1\n",
    "\n",
    "print(h)"
   ]
  },
  {
   "cell_type": "markdown",
   "metadata": {},
   "source": [
    "### binary tree"
   ]
  },
  {
   "cell_type": "code",
   "execution_count": 75,
   "metadata": {},
   "outputs": [
    {
     "name": "stdout",
     "output_type": "stream",
     "text": [
      "[1, 1, 3, 5, 5, 7, 11, 11, 13, 13, 15, 18, 22, 29, 29, 30, 34, 36, 36, 40]\n",
      "-1\n",
      "-1\n"
     ]
    }
   ],
   "source": [
    "# getting the index, -1 for elsewhere\n",
    "\n",
    "import random\n",
    "\n",
    "arr = sorted([random.randint(1,40) for _ in range(20)])\n",
    "\n",
    "def binary_tree(arr, value):\n",
    "    start, end = 0, len(arr)\n",
    "    while start <= end:\n",
    "        middle = (start+end)//2\n",
    "        if arr[middle] == value:\n",
    "            return middle\n",
    "        elif arr[middle] > value:\n",
    "            end = middle - 1\n",
    "        elif arr[middle] < value:\n",
    "            start = middle + 1\n",
    "    return -1\n",
    "\n",
    "print(arr)\n",
    "print(binary_tree(arr, 10))\n",
    "\n",
    "def binary_tree(arr, value, start=0, end=len(arr)) -> int:\n",
    "    middle = (start + end) // 2\n",
    "    if start > end:\n",
    "        return -1\n",
    "    if arr[middle] == value:\n",
    "        return middle\n",
    "    elif value < arr[middle]:\n",
    "        end = middle - 1\n",
    "        return binary_tree(arr, value, start, end)\n",
    "    elif value > arr[middle]:\n",
    "        start = middle + 1\n",
    "        return binary_tree(arr, value, start, end)\n",
    "\n",
    "print(binary_tree(arr, 10))"
   ]
  },
  {
   "cell_type": "code",
   "execution_count": 124,
   "metadata": {},
   "outputs": [
    {
     "name": "stdout",
     "output_type": "stream",
     "text": [
      "4\n"
     ]
    },
    {
     "ename": "KeyboardInterrupt",
     "evalue": "",
     "output_type": "error",
     "traceback": [
      "\u001b[0;31m---------------------------------------------------------------------------\u001b[0m",
      "\u001b[0;31mKeyboardInterrupt\u001b[0m                         Traceback (most recent call last)",
      "Cell \u001b[0;32mIn[124], line 29\u001b[0m\n\u001b[1;32m     26\u001b[0m             start \u001b[38;5;241m=\u001b[39m middle\u001b[38;5;241m+\u001b[39m\u001b[38;5;241m1\u001b[39m\n\u001b[1;32m     27\u001b[0m     \u001b[38;5;28;01mreturn\u001b[39;00m end\n\u001b[0;32m---> 29\u001b[0m \u001b[38;5;28mprint\u001b[39m(binary_tree(arr, \u001b[38;5;241m50\u001b[39m))\n",
      "Cell \u001b[0;32mIn[124], line 21\u001b[0m, in \u001b[0;36mbinary_tree\u001b[0;34m(arr, value)\u001b[0m\n\u001b[1;32m     18\u001b[0m \u001b[38;5;28;01mdef\u001b[39;00m \u001b[38;5;21mbinary_tree\u001b[39m(arr, value):\n\u001b[1;32m     19\u001b[0m     start, end \u001b[38;5;241m=\u001b[39m \u001b[38;5;241m0\u001b[39m, \u001b[38;5;28mlen\u001b[39m(arr)\u001b[38;5;241m-\u001b[39m\u001b[38;5;241m1\u001b[39m\n\u001b[0;32m---> 21\u001b[0m     \u001b[38;5;28;01mwhile\u001b[39;00m start \u001b[38;5;241m<\u001b[39m\u001b[38;5;241m=\u001b[39m end:\n\u001b[1;32m     22\u001b[0m         middle \u001b[38;5;241m=\u001b[39m (start \u001b[38;5;241m+\u001b[39m end)\u001b[38;5;241m/\u001b[39m\u001b[38;5;241m/\u001b[39m\u001b[38;5;241m2\u001b[39m\u001b[38;5;241m+\u001b[39m\u001b[38;5;241m1\u001b[39m\n\u001b[1;32m     23\u001b[0m         \u001b[38;5;28;01mif\u001b[39;00m value \u001b[38;5;241m<\u001b[39m arr[middle]:\n",
      "\u001b[0;31mKeyboardInterrupt\u001b[0m: "
     ]
    }
   ],
   "source": [
    "# getting the biggest index\n",
    "\n",
    "arr = [10,20,30,40,50,60,70,80,90,100]\n",
    "\n",
    "def binary_tree(arr, value):\n",
    "    start, end = 0, len(arr)-1\n",
    "\n",
    "    while start <= end:\n",
    "        middle = (start + end)//2\n",
    "        if value < arr[middle]:\n",
    "            end = middle-1\n",
    "        else:\n",
    "            start = middle+1\n",
    "    return end\n",
    "\n",
    "print(binary_tree(arr, 50))"
   ]
  },
  {
   "cell_type": "code",
   "execution_count": null,
   "metadata": {},
   "outputs": [
    {
     "ename": "ValueError",
     "evalue": "not enough values to unpack (expected 2, got 1)",
     "output_type": "error",
     "traceback": [
      "\u001b[0;31m---------------------------------------------------------------------------\u001b[0m",
      "\u001b[0;31mValueError\u001b[0m                                Traceback (most recent call last)",
      "Cell \u001b[0;32mIn[72], line 1\u001b[0m\n\u001b[0;32m----> 1\u001b[0m N, M \u001b[38;5;241m=\u001b[39m \u001b[38;5;28mmap\u001b[39m(\u001b[38;5;28mint\u001b[39m, \u001b[38;5;28minput\u001b[39m()\u001b[38;5;241m.\u001b[39msplit())\n\u001b[1;32m      2\u001b[0m arr \u001b[38;5;241m=\u001b[39m \u001b[38;5;28mlist\u001b[39m(\u001b[38;5;28mmap\u001b[39m(\u001b[38;5;28mint\u001b[39m, \u001b[38;5;28minput\u001b[39m()\u001b[38;5;241m.\u001b[39msplit()))\n\u001b[1;32m      4\u001b[0m i, j \u001b[38;5;241m=\u001b[39m \u001b[38;5;28mmin\u001b[39m(arr), \u001b[38;5;28mmax\u001b[39m(arr)\n",
      "\u001b[0;31mValueError\u001b[0m: not enough values to unpack (expected 2, got 1)"
     ]
    }
   ],
   "source": [
    "N, M = map(int, input().split())\n",
    "arr = list(map(int, input().split()))\n",
    "\n",
    "i, j = 1, max(arr)\n",
    "\n",
    "while i <= j:\n",
    "    h = (i + j)//2\n",
    "\n",
    "    chopped = 0\n",
    "    for a in arr:\n",
    "        if a > h:\n",
    "            chopped += a - h\n",
    "    \n",
    "    if chopped == M:\n",
    "        break\n",
    "    elif chopped < M:\n",
    "        j = h - 1\n",
    "    else:\n",
    "        i = h + 1\n",
    "\n",
    "print(h) # <- 이 부분이 다름 왜?"
   ]
  },
  {
   "cell_type": "markdown",
   "metadata": {},
   "source": [
    "### Answer"
   ]
  },
  {
   "cell_type": "code",
   "execution_count": 77,
   "metadata": {},
   "outputs": [
    {
     "ename": "ValueError",
     "evalue": "not enough values to unpack (expected 2, got 0)",
     "output_type": "error",
     "traceback": [
      "\u001b[0;31m---------------------------------------------------------------------------\u001b[0m",
      "\u001b[0;31mValueError\u001b[0m                                Traceback (most recent call last)",
      "Cell \u001b[0;32mIn[77], line 1\u001b[0m\n\u001b[0;32m----> 1\u001b[0m N, M \u001b[38;5;241m=\u001b[39m \u001b[38;5;28mmap\u001b[39m(\u001b[38;5;28mint\u001b[39m, \u001b[38;5;28minput\u001b[39m()\u001b[38;5;241m.\u001b[39msplit())\n\u001b[1;32m      2\u001b[0m tree \u001b[38;5;241m=\u001b[39m \u001b[38;5;28mlist\u001b[39m(\u001b[38;5;28mmap\u001b[39m(\u001b[38;5;28mint\u001b[39m, \u001b[38;5;28minput\u001b[39m()\u001b[38;5;241m.\u001b[39msplit()))\n\u001b[1;32m      3\u001b[0m start, end \u001b[38;5;241m=\u001b[39m \u001b[38;5;241m1\u001b[39m, \u001b[38;5;28mmax\u001b[39m(tree) \u001b[38;5;66;03m#이분탐색 검색 범위 설정\u001b[39;00m\n",
      "\u001b[0;31mValueError\u001b[0m: not enough values to unpack (expected 2, got 0)"
     ]
    }
   ],
   "source": [
    "N, M = map(int, input().split())\n",
    "tree = list(map(int, input().split()))\n",
    "start, end = 1, max(tree) #이분탐색 검색 범위 설정\n",
    "\n",
    "while start <= end: #적절한 벌목 높이를 찾는 알고리즘\n",
    "    mid = (start+end) // 2\n",
    "    \n",
    "    log = 0 #벌목된 나무 총합\n",
    "    for i in tree:\n",
    "        if i >= mid:\n",
    "            log += i - mid\n",
    "    \n",
    "    #벌목 높이를 이분탐색\n",
    "    if log >= M:\n",
    "        start = mid + 1\n",
    "    else:\n",
    "        end = mid - 1\n",
    "print(end) # <- 정답"
   ]
  }
 ],
 "metadata": {
  "kernelspec": {
   "display_name": "base",
   "language": "python",
   "name": "python3"
  },
  "language_info": {
   "codemirror_mode": {
    "name": "ipython",
    "version": 3
   },
   "file_extension": ".py",
   "mimetype": "text/x-python",
   "name": "python",
   "nbconvert_exporter": "python",
   "pygments_lexer": "ipython3",
   "version": "3.11.3"
  }
 },
 "nbformat": 4,
 "nbformat_minor": 2
}
