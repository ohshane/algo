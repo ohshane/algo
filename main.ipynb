{
 "cells": [
  {
   "cell_type": "markdown",
   "metadata": {},
   "source": [
    "### Stack"
   ]
  },
  {
   "cell_type": "code",
   "execution_count": 81,
   "metadata": {},
   "outputs": [
    {
     "name": "stdout",
     "output_type": "stream",
     "text": [
      "[]\n",
      "[1, 2, 3, 4, 5]\n",
      "[1, 2, 3]\n"
     ]
    }
   ],
   "source": [
    "stack = []\n",
    "print(stack)\n",
    "\n",
    "stack.append(1)\n",
    "stack.append(2)\n",
    "stack.append(3)\n",
    "stack.append(4)\n",
    "stack.append(5)\n",
    "print(stack)\n",
    "\n",
    "stack.pop()\n",
    "stack.pop()\n",
    "print(stack)"
   ]
  },
  {
   "cell_type": "markdown",
   "metadata": {},
   "source": [
    "### Queue"
   ]
  },
  {
   "cell_type": "code",
   "execution_count": 82,
   "metadata": {},
   "outputs": [
    {
     "name": "stdout",
     "output_type": "stream",
     "text": [
      "deque([], maxlen=4)\n",
      "deque([2, 3, 4, 5], maxlen=4)\n",
      "deque([2, 3], maxlen=4)\n"
     ]
    }
   ],
   "source": [
    "from collections import deque\n",
    "\n",
    "queue = deque(maxlen=4)\n",
    "print(queue)\n",
    "\n",
    "queue.append(1)\n",
    "queue.append(2)\n",
    "queue.append(3)\n",
    "queue.append(4)\n",
    "queue.append(5)\n",
    "print(queue)\n",
    "\n",
    "queue.pop()\n",
    "queue.pop()\n",
    "print(queue)"
   ]
  },
  {
   "cell_type": "code",
   "execution_count": 83,
   "metadata": {},
   "outputs": [
    {
     "data": {
      "text/plain": [
       "3628800"
      ]
     },
     "execution_count": 83,
     "metadata": {},
     "output_type": "execute_result"
    }
   ],
   "source": [
    "def factorial(n):\n",
    "    if n <= 1:\n",
    "        return 1\n",
    "    return n * factorial(n-1)\n",
    "\n",
    "factorial(10)"
   ]
  },
  {
   "cell_type": "code",
   "execution_count": 84,
   "metadata": {},
   "outputs": [
    {
     "data": {
      "image/png": "[encoded data removed]",
      "text/plain": [
       "<Figure size 300x300 with 1 Axes>"
      ]
     },
     "metadata": {},
     "output_type": "display_data"
    }
   ],
   "source": [
    "import networkx as nx\n",
    "import matplotlib.pyplot as plt\n",
    "\n",
    "graph = {\n",
    "    1: [2,3,8],\n",
    "    2: [1,7],\n",
    "    3: [1,4,5],\n",
    "    4: [3,5],\n",
    "    5: [3,4],\n",
    "    6: [7],\n",
    "    7: [2,6,8],\n",
    "    8: [1,7]\n",
    "}\n",
    "\n",
    "G = nx.Graph()\n",
    "for node, neighbors in graph.items():\n",
    "    for neighbor in neighbors:\n",
    "        G.add_edge(node, neighbor)\n",
    "\n",
    "plt.figure(figsize=(3,3))\n",
    "nx.draw(G,\n",
    "        pos=nx.spring_layout(G),\n",
    "        with_labels=True,\n",
    "        node_size=800,\n",
    "        node_color='w',\n",
    "        edgecolors='k')\n",
    "plt.show()"
   ]
  },
  {
   "cell_type": "code",
   "execution_count": 112,
   "metadata": {},
   "outputs": [
    {
     "data": {
      "text/plain": [
       "[1, 2, 7, 6, 8, 3, 4, 5]"
      ]
     },
     "execution_count": 112,
     "metadata": {},
     "output_type": "execute_result"
    }
   ],
   "source": [
    "graph = {\n",
    "    1: [2,3,8],\n",
    "    2: [1,7],\n",
    "    3: [1,4,5],\n",
    "    4: [3,5],\n",
    "    5: [3,4],\n",
    "    6: [7],\n",
    "    7: [2,6,8],\n",
    "    8: [1,7]\n",
    "}\n",
    "\n",
    "# DFS\n",
    "\n",
    "frontiers = [1]\n",
    "visited = []\n",
    "\n",
    "while frontiers:\n",
    "    current = frontiers.pop()\n",
    "    if current not in visited:\n",
    "        visited.append(current)\n",
    "        frontiers.extend(neighbor for neighbor in sorted(graph[current], reverse=True) if neighbor not in visited)\n",
    "\n",
    "visited"
   ]
  },
  {
   "cell_type": "markdown",
   "metadata": {},
   "source": [
    "frontiers는 중복된 값을 갖을 수 있다. '8'의 경우 1 또는 7의 neighbor로 frontiers에 중복되어 추가된다. 다만 스택구조로 LIFO가 작용되고 7의 neighbor로 인식됨. 이후 8 as a neighbor of 1은 if문을 통해 visited조건을 만족하여 걸러짐."
   ]
  },
  {
   "cell_type": "code",
   "execution_count": 113,
   "metadata": {},
   "outputs": [
    {
     "data": {
      "text/plain": [
       "[1, 2, 3, 8, 7, 4, 5, 6]"
      ]
     },
     "execution_count": 113,
     "metadata": {},
     "output_type": "execute_result"
    }
   ],
   "source": [
    "# BFS\n",
    "\n",
    "frontiers = [1]\n",
    "visited = []\n",
    "\n",
    "while frontiers:\n",
    "    current = frontiers.pop(0)\n",
    "    if current not in visited:\n",
    "        visited.append(current)\n",
    "        frontiers.extend(neighbor for neighbor in sorted(graph[current]) if neighbor not in visited)\n",
    "\n",
    "visited"
   ]
  },
  {
   "cell_type": "code",
   "execution_count": 125,
   "metadata": {},
   "outputs": [
    {
     "data": {
      "text/plain": [
       "[1, 2, 7, 6, 8, 3, 4, 5]"
      ]
     },
     "execution_count": 125,
     "metadata": {},
     "output_type": "execute_result"
    }
   ],
   "source": [
    "graph = {\n",
    "    1: [2,3,8],\n",
    "    2: [1,7],\n",
    "    3: [1,4,5],\n",
    "    4: [3,5],\n",
    "    5: [3,4],\n",
    "    6: [7],\n",
    "    7: [2,6,8],\n",
    "    8: [1,7]\n",
    "}\n",
    "\n",
    "def DFS(current, visited=[]):\n",
    "    visited.append(current)\n",
    "    for neighbor in sorted(graph[current]):\n",
    "        if neighbor not in visited:\n",
    "            visited = DFS(neighbor, visited)\n",
    "    return visited\n",
    "\n",
    "DFS(1)"
   ]
  },
  {
   "cell_type": "code",
   "execution_count": null,
   "metadata": {},
   "outputs": [],
   "source": [
    "graph = {\n",
    "    1: [2,3,8],\n",
    "    2: [1,7],\n",
    "    3: [1,4,5],\n",
    "    4: [3,5],\n",
    "    5: [3,4],\n",
    "    6: [7],\n",
    "    7: [2,6,8],\n",
    "    8: [1,7]\n",
    "}\n",
    "\n",
    "def BFS(current, visited=[]):\n",
    "    visited.append(current)\n",
    "    for neighbor in sorted(graph[current]):\n",
    "        if neighbor not in visited:\n",
    "            visited = DFS(neighbor, visited)\n",
    "    return visited\n",
    "\n",
    "DFS(1)"
   ]
  }
 ],
 "metadata": {
  "kernelspec": {
   "display_name": "base",
   "language": "python",
   "name": "python3"
  },
  "language_info": {
   "codemirror_mode": {
    "name": "ipython",
    "version": 3
   },
   "file_extension": ".py",
   "mimetype": "text/x-python",
   "name": "python",
   "nbconvert_exporter": "python",
   "pygments_lexer": "ipython3",
   "version": "3.10.12"
  }
 },
 "nbformat": 4,
 "nbformat_minor": 2
}
